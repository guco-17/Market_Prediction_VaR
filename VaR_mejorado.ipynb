{
 "cells": [
  {
   "cell_type": "code",
   "execution_count": 1,
   "id": "d1bb5340",
   "metadata": {},
   "outputs": [],
   "source": [
    "#IMPORTAR LAS LIBRERÍAS NECESARIAS\n",
    "import numpy as np\n",
    "import pandas as pd\n",
    "import matplotlib.pyplot as plt\n",
    "import datetime as dt\n",
    "import yfinance as yf\n",
    "from scipy.stats import norm"
   ]
  },
  {
   "cell_type": "code",
   "execution_count": 2,
   "id": "455e0b37",
   "metadata": {},
   "outputs": [],
   "source": [
    "#DEFINIR EL RANGO DE FECHAS PARA OBTENER LOS DATOS\n",
    "years = 15\n",
    "\n",
    "endDate = dt.datetime.now()\n",
    "startDate = endDate - dt.timedelta(days = 365 * years)"
   ]
  },
  {
   "cell_type": "code",
   "execution_count": 3,
   "id": "f128fa1c",
   "metadata": {},
   "outputs": [
    {
     "name": "stdout",
     "output_type": "stream",
     "text": [
      "YF.download() has changed argument auto_adjust default to True\n"
     ]
    },
    {
     "name": "stderr",
     "output_type": "stream",
     "text": [
      "[*********************100%***********************]  1 of 1 completed\n",
      "[*********************100%***********************]  1 of 1 completed\n",
      "[*********************100%***********************]  1 of 1 completed\n"
     ]
    },
    {
     "data": {
      "text/html": [
       "<div>\n",
       "<style scoped>\n",
       "    .dataframe tbody tr th:only-of-type {\n",
       "        vertical-align: middle;\n",
       "    }\n",
       "\n",
       "    .dataframe tbody tr th {\n",
       "        vertical-align: top;\n",
       "    }\n",
       "\n",
       "    .dataframe thead th {\n",
       "        text-align: right;\n",
       "    }\n",
       "</style>\n",
       "<table border=\"1\" class=\"dataframe\">\n",
       "  <thead>\n",
       "    <tr style=\"text-align: right;\">\n",
       "      <th></th>\n",
       "      <th>SPY</th>\n",
       "      <th>GLD</th>\n",
       "      <th>QQQ</th>\n",
       "    </tr>\n",
       "    <tr>\n",
       "      <th>Date</th>\n",
       "      <th></th>\n",
       "      <th></th>\n",
       "      <th></th>\n",
       "    </tr>\n",
       "  </thead>\n",
       "  <tbody>\n",
       "    <tr>\n",
       "      <th>2010-09-22</th>\n",
       "      <td>86.807098</td>\n",
       "      <td>126.199997</td>\n",
       "      <td>42.727215</td>\n",
       "    </tr>\n",
       "    <tr>\n",
       "      <th>2010-09-23</th>\n",
       "      <td>86.102943</td>\n",
       "      <td>126.300003</td>\n",
       "      <td>42.709682</td>\n",
       "    </tr>\n",
       "    <tr>\n",
       "      <th>2010-09-24</th>\n",
       "      <td>87.878601</td>\n",
       "      <td>126.690002</td>\n",
       "      <td>43.578442</td>\n",
       "    </tr>\n",
       "    <tr>\n",
       "      <th>2010-09-27</th>\n",
       "      <td>87.457664</td>\n",
       "      <td>126.720001</td>\n",
       "      <td>43.341499</td>\n",
       "    </tr>\n",
       "    <tr>\n",
       "      <th>2010-09-28</th>\n",
       "      <td>87.763809</td>\n",
       "      <td>127.849998</td>\n",
       "      <td>43.323936</td>\n",
       "    </tr>\n",
       "    <tr>\n",
       "      <th>...</th>\n",
       "      <td>...</td>\n",
       "      <td>...</td>\n",
       "      <td>...</td>\n",
       "    </tr>\n",
       "    <tr>\n",
       "      <th>2025-09-11</th>\n",
       "      <td>657.630005</td>\n",
       "      <td>334.760010</td>\n",
       "      <td>584.080017</td>\n",
       "    </tr>\n",
       "    <tr>\n",
       "      <th>2025-09-12</th>\n",
       "      <td>657.409973</td>\n",
       "      <td>335.420013</td>\n",
       "      <td>586.659973</td>\n",
       "    </tr>\n",
       "    <tr>\n",
       "      <th>2025-09-15</th>\n",
       "      <td>660.909973</td>\n",
       "      <td>338.910004</td>\n",
       "      <td>591.679993</td>\n",
       "    </tr>\n",
       "    <tr>\n",
       "      <th>2025-09-16</th>\n",
       "      <td>660.000000</td>\n",
       "      <td>339.589996</td>\n",
       "      <td>591.179993</td>\n",
       "    </tr>\n",
       "    <tr>\n",
       "      <th>2025-09-17</th>\n",
       "      <td>659.179993</td>\n",
       "      <td>336.970001</td>\n",
       "      <td>590.000000</td>\n",
       "    </tr>\n",
       "  </tbody>\n",
       "</table>\n",
       "<p>3770 rows × 3 columns</p>\n",
       "</div>"
      ],
      "text/plain": [
       "                   SPY         GLD         QQQ\n",
       "Date                                          \n",
       "2010-09-22   86.807098  126.199997   42.727215\n",
       "2010-09-23   86.102943  126.300003   42.709682\n",
       "2010-09-24   87.878601  126.690002   43.578442\n",
       "2010-09-27   87.457664  126.720001   43.341499\n",
       "2010-09-28   87.763809  127.849998   43.323936\n",
       "...                ...         ...         ...\n",
       "2025-09-11  657.630005  334.760010  584.080017\n",
       "2025-09-12  657.409973  335.420013  586.659973\n",
       "2025-09-15  660.909973  338.910004  591.679993\n",
       "2025-09-16  660.000000  339.589996  591.179993\n",
       "2025-09-17  659.179993  336.970001  590.000000\n",
       "\n",
       "[3770 rows x 3 columns]"
      ]
     },
     "execution_count": 3,
     "metadata": {},
     "output_type": "execute_result"
    }
   ],
   "source": [
    "#DESCARGAR LOS DATOS DE LOS TICKERS\n",
    "tickers = ['SPY', 'GLD', 'QQQ']\n",
    "\n",
    "#DESCARGAR EL VALOR DE CIERRE AJUSTADO DE CADA TICKER POR DIA\n",
    "adj_close_df = pd.DataFrame()\n",
    "\n",
    "for i in tickers:\n",
    "    data = yf.download(i, start = startDate, end = endDate)\n",
    "    adj_close_df[i] = data['Close']\n",
    "\n",
    "adj_close_df"
   ]
  },
  {
   "cell_type": "code",
   "execution_count": 4,
   "id": "146d8745",
   "metadata": {},
   "outputs": [
    {
     "data": {
      "text/html": [
       "<div>\n",
       "<style scoped>\n",
       "    .dataframe tbody tr th:only-of-type {\n",
       "        vertical-align: middle;\n",
       "    }\n",
       "\n",
       "    .dataframe tbody tr th {\n",
       "        vertical-align: top;\n",
       "    }\n",
       "\n",
       "    .dataframe thead th {\n",
       "        text-align: right;\n",
       "    }\n",
       "</style>\n",
       "<table border=\"1\" class=\"dataframe\">\n",
       "  <thead>\n",
       "    <tr style=\"text-align: right;\">\n",
       "      <th></th>\n",
       "      <th>SPY</th>\n",
       "      <th>GLD</th>\n",
       "      <th>QQQ</th>\n",
       "    </tr>\n",
       "    <tr>\n",
       "      <th>Date</th>\n",
       "      <th></th>\n",
       "      <th></th>\n",
       "      <th></th>\n",
       "    </tr>\n",
       "  </thead>\n",
       "  <tbody>\n",
       "    <tr>\n",
       "      <th>2010-09-23</th>\n",
       "      <td>-0.008145</td>\n",
       "      <td>0.000792</td>\n",
       "      <td>-0.000410</td>\n",
       "    </tr>\n",
       "    <tr>\n",
       "      <th>2010-09-24</th>\n",
       "      <td>0.020413</td>\n",
       "      <td>0.003083</td>\n",
       "      <td>0.020137</td>\n",
       "    </tr>\n",
       "    <tr>\n",
       "      <th>2010-09-27</th>\n",
       "      <td>-0.004801</td>\n",
       "      <td>0.000237</td>\n",
       "      <td>-0.005452</td>\n",
       "    </tr>\n",
       "    <tr>\n",
       "      <th>2010-09-28</th>\n",
       "      <td>0.003494</td>\n",
       "      <td>0.008878</td>\n",
       "      <td>-0.000405</td>\n",
       "    </tr>\n",
       "    <tr>\n",
       "      <th>2010-09-29</th>\n",
       "      <td>-0.001746</td>\n",
       "      <td>0.000782</td>\n",
       "      <td>-0.001621</td>\n",
       "    </tr>\n",
       "    <tr>\n",
       "      <th>...</th>\n",
       "      <td>...</td>\n",
       "      <td>...</td>\n",
       "      <td>...</td>\n",
       "    </tr>\n",
       "    <tr>\n",
       "      <th>2025-09-11</th>\n",
       "      <td>0.008276</td>\n",
       "      <td>-0.001492</td>\n",
       "      <td>0.005804</td>\n",
       "    </tr>\n",
       "    <tr>\n",
       "      <th>2025-09-12</th>\n",
       "      <td>-0.000335</td>\n",
       "      <td>0.001970</td>\n",
       "      <td>0.004407</td>\n",
       "    </tr>\n",
       "    <tr>\n",
       "      <th>2025-09-15</th>\n",
       "      <td>0.005310</td>\n",
       "      <td>0.010351</td>\n",
       "      <td>0.008521</td>\n",
       "    </tr>\n",
       "    <tr>\n",
       "      <th>2025-09-16</th>\n",
       "      <td>-0.001378</td>\n",
       "      <td>0.002004</td>\n",
       "      <td>-0.000845</td>\n",
       "    </tr>\n",
       "    <tr>\n",
       "      <th>2025-09-17</th>\n",
       "      <td>-0.001243</td>\n",
       "      <td>-0.007745</td>\n",
       "      <td>-0.001998</td>\n",
       "    </tr>\n",
       "  </tbody>\n",
       "</table>\n",
       "<p>3769 rows × 3 columns</p>\n",
       "</div>"
      ],
      "text/plain": [
       "                 SPY       GLD       QQQ\n",
       "Date                                    \n",
       "2010-09-23 -0.008145  0.000792 -0.000410\n",
       "2010-09-24  0.020413  0.003083  0.020137\n",
       "2010-09-27 -0.004801  0.000237 -0.005452\n",
       "2010-09-28  0.003494  0.008878 -0.000405\n",
       "2010-09-29 -0.001746  0.000782 -0.001621\n",
       "...              ...       ...       ...\n",
       "2025-09-11  0.008276 -0.001492  0.005804\n",
       "2025-09-12 -0.000335  0.001970  0.004407\n",
       "2025-09-15  0.005310  0.010351  0.008521\n",
       "2025-09-16 -0.001378  0.002004 -0.000845\n",
       "2025-09-17 -0.001243 -0.007745 -0.001998\n",
       "\n",
       "[3769 rows x 3 columns]"
      ]
     },
     "execution_count": 4,
     "metadata": {},
     "output_type": "execute_result"
    }
   ],
   "source": [
    "#CALCULAR LOS RETORNOS LOGARITMICOS DE CADA TICKER\n",
    "log_returns = np.log(adj_close_df / adj_close_df.shift(1))\n",
    "log_returns = log_returns.dropna()\n",
    "\n",
    "log_returns"
   ]
  },
  {
   "cell_type": "code",
   "execution_count": 5,
   "id": "73e8fc48",
   "metadata": {},
   "outputs": [],
   "source": [
    "#CREAR UNA FUNCIÓN QUE CALCULE EL VALOR ESPERADO DE RETORNO BASADO EN LOS RETORNOS LOGARITMICOS PARA EL PORTAFOLIO (TICKERS).\n",
    "def expected_return(weights, log_returns):\n",
    "    return np.sum(log_returns.mean()* weights)"
   ]
  },
  {
   "cell_type": "code",
   "execution_count": 6,
   "id": "0b5c43ac",
   "metadata": {},
   "outputs": [],
   "source": [
    "#CREAR UNA FUNCIÓN PARA OBTENER LA DESVIACIÓN ESTÁNDAR DEL PORTAFOLIO\n",
    "def standard_deviation(weights, cov_matrix):\n",
    "    variance = weights.T @ cov_matrix @ weights\n",
    "    return np.sqrt(variance)"
   ]
  },
  {
   "cell_type": "code",
   "execution_count": 7,
   "id": "3ce9ee41",
   "metadata": {},
   "outputs": [
    {
     "data": {
      "text/html": [
       "<div>\n",
       "<style scoped>\n",
       "    .dataframe tbody tr th:only-of-type {\n",
       "        vertical-align: middle;\n",
       "    }\n",
       "\n",
       "    .dataframe tbody tr th {\n",
       "        vertical-align: top;\n",
       "    }\n",
       "\n",
       "    .dataframe thead th {\n",
       "        text-align: right;\n",
       "    }\n",
       "</style>\n",
       "<table border=\"1\" class=\"dataframe\">\n",
       "  <thead>\n",
       "    <tr style=\"text-align: right;\">\n",
       "      <th></th>\n",
       "      <th>SPY</th>\n",
       "      <th>GLD</th>\n",
       "      <th>QQQ</th>\n",
       "    </tr>\n",
       "  </thead>\n",
       "  <tbody>\n",
       "    <tr>\n",
       "      <th>SPY</th>\n",
       "      <td>0.000117</td>\n",
       "      <td>0.000005</td>\n",
       "      <td>0.000132</td>\n",
       "    </tr>\n",
       "    <tr>\n",
       "      <th>GLD</th>\n",
       "      <td>0.000005</td>\n",
       "      <td>0.000097</td>\n",
       "      <td>0.000006</td>\n",
       "    </tr>\n",
       "    <tr>\n",
       "      <th>QQQ</th>\n",
       "      <td>0.000132</td>\n",
       "      <td>0.000006</td>\n",
       "      <td>0.000170</td>\n",
       "    </tr>\n",
       "  </tbody>\n",
       "</table>\n",
       "</div>"
      ],
      "text/plain": [
       "          SPY       GLD       QQQ\n",
       "SPY  0.000117  0.000005  0.000132\n",
       "GLD  0.000005  0.000097  0.000006\n",
       "QQQ  0.000132  0.000006  0.000170"
      ]
     },
     "execution_count": 7,
     "metadata": {},
     "output_type": "execute_result"
    }
   ],
   "source": [
    "#CREAR MATRIZ DE COVARIANZA\n",
    "cov_matrix = log_returns.cov()\n",
    "cov_matrix"
   ]
  },
  {
   "cell_type": "code",
   "execution_count": 8,
   "id": "0662992c",
   "metadata": {},
   "outputs": [],
   "source": [
    "#CREAR UN PORTAFOLIO CON PESOS EQUILIBRADOS Y ENCONTRAR EL TOTAL ESPERADO DE RETORNO\n",
    "portfolio_value = 1000000\n",
    "weights = np.array([1/len(tickers)] * len(tickers))\n",
    "portfolio_expected_return = expected_return(weights, log_returns)\n",
    "portfolio_std_dev = standard_deviation(weights, cov_matrix)"
   ]
  },
  {
   "cell_type": "code",
   "execution_count": 9,
   "id": "e4a95a1c",
   "metadata": {},
   "outputs": [],
   "source": [
    "#CREAR UNA FUNCIÓN QUE REGRESE UN VALOR ALEATORIO (Z-SCORE) BASADO EN LA DISTRIBUCIÓN NORMAL\n",
    "def randomz_score():\n",
    "    return np.random.normal(0,1)"
   ]
  },
  {
   "cell_type": "code",
   "execution_count": 10,
   "id": "2a120fcb",
   "metadata": {},
   "outputs": [],
   "source": [
    "#CREAR FUNCIÓN PARA CALCULAR EL ESCENARIO DE PERDIDA/GANANCIA\n",
    "days = 5\n",
    "def scenario_gain_loss(portfolio_value, portfolio_std_dev, z_score, days):\n",
    "    return portfolio_value * (portfolio_expected_return * days + z_score * portfolio_std_dev * np.sqrt(days))"
   ]
  },
  {
   "cell_type": "code",
   "execution_count": 11,
   "id": "c5c85c8a",
   "metadata": {},
   "outputs": [],
   "source": [
    "#HACER LA SIMULACIÓN\n",
    "simulations = 10000\n",
    "scenarioReturn = []\n",
    "\n",
    "for i in range(simulations):\n",
    "    z_score = randomz_score()\n",
    "    scenarioReturn.append(scenario_gain_loss(portfolio_value, portfolio_std_dev, z_score, days))"
   ]
  },
  {
   "cell_type": "code",
   "execution_count": 12,
   "id": "67c6908b",
   "metadata": {},
   "outputs": [
    {
     "data": {
      "text/plain": [
       "np.float64(41891.36997295168)"
      ]
     },
     "execution_count": 12,
     "metadata": {},
     "output_type": "execute_result"
    }
   ],
   "source": [
    "#ESPECIFICAR EL INTERVALO DE CONFIANZA Y CALCULAR EL VALOR EN RIESGO\n",
    "confidence_interval = 0.99\n",
    "VaR = -np.percentile(scenarioReturn, 100 * (1 - confidence_interval))\n",
    "VaR"
   ]
  },
  {
   "cell_type": "code",
   "execution_count": 13,
   "id": "8de2ae55",
   "metadata": {},
   "outputs": [
    {
     "data": {
      "image/png": "[encoded data removed]",
      "text/plain": [
       "<Figure size 640x480 with 1 Axes>"
      ]
     },
     "metadata": {},
     "output_type": "display_data"
    }
   ],
   "source": [
    "#GRAFICAR RESULTADOS\n",
    "plt.hist(scenarioReturn, bins = 250, density = True)\n",
    "plt.xlabel('Scenario Gain/Loss ($)')\n",
    "plt.ylabel('Frecuency')\n",
    "plt.title(f'Distribution of Portfolio Gain / Loss over {days} Days')\n",
    "plt.axvline(-VaR, color = 'r', linestyle = 'dashed', label=f'VaR at {confidence_interval:.0%} confidence interval')\n",
    "plt.legend()\n",
    "plt.show()"
   ]
  }
 ],
 "metadata": {
  "kernelspec": {
   "display_name": "Python 3",
   "language": "python",
   "name": "python3"
  },
  "language_info": {
   "codemirror_mode": {
    "name": "ipython",
    "version": 3
   },
   "file_extension": ".py",
   "mimetype": "text/x-python",
   "name": "python",
   "nbconvert_exporter": "python",
   "pygments_lexer": "ipython3",
   "version": "3.10.11"
  }
 },
 "nbformat": 4,
 "nbformat_minor": 5
}
